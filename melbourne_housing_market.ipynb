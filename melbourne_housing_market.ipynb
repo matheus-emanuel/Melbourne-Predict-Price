{
 "cells": [
  {
   "cell_type": "markdown",
   "metadata": {},
   "source": [
    "# 0.0 - Imports"
   ]
  },
  {
   "cell_type": "code",
   "execution_count": 1,
   "metadata": {},
   "outputs": [],
   "source": [
    "import pandas as pd\n",
    "import numpy as np\n",
    "import seaborn as sns\n",
    "from matplotlib import pyplot as plt\n",
    "import datetime\n",
    "\n",
    "from IPython.core.display import HTML\n",
    "from IPython.display import Image\n",
    "import scipy.stats as stats\n",
    "from scipy.stats import iqr\n",
    "\n",
    "import inflection\n",
    "\n",
    "# Me ajudando a fazer meu primeiro projeto:\n",
    "# https://www.kaggle.com/darkpsycs/real-estate-market-comprehensive-analysis"
   ]
  },
  {
   "cell_type": "markdown",
   "metadata": {},
   "source": [
    "## 0.1 - Helper Functions"
   ]
  },
  {
   "cell_type": "code",
   "execution_count": 2,
   "metadata": {},
   "outputs": [],
   "source": [
    "# Aumenta o tamanho dos gráficos de acordo com minha tela\n",
    "def jupyter_settings():\n",
    "    %matplotlib inline\n",
    "    %pylab inline\n",
    "    \n",
    "    plt.style.use('bmh')\n",
    "    plt.rcParams['figure.figsize'] = [25, 12]\n",
    "    plt.rcParams['font.size'] = 24\n",
    "    \n",
    "    display( HTML ('<style>.container { width:100% !important;}</style>') )\n",
    "    pd.options.display.max_columns = None\n",
    "    pd.options.display.max_rows = None\n",
    "    pd.set_option('display.expand_frame_repr', False)\n",
    "    \n",
    "    sns.set()\n",
    "    \n",
    "# Definindo que vou usar apenas 2 casas decimáis e tirei a notação cientifica\n",
    "pd.set_option('display.float_format', lambda x: '%.2f' % x)"
   ]
  },
  {
   "cell_type": "markdown",
   "metadata": {},
   "source": [
    "## 0.2 - Import Data"
   ]
  },
  {
   "cell_type": "code",
   "execution_count": 3,
   "metadata": {},
   "outputs": [
    {
     "data": {
      "text/html": [
       "<div>\n",
       "<style scoped>\n",
       "    .dataframe tbody tr th:only-of-type {\n",
       "        vertical-align: middle;\n",
       "    }\n",
       "\n",
       "    .dataframe tbody tr th {\n",
       "        vertical-align: top;\n",
       "    }\n",
       "\n",
       "    .dataframe thead th {\n",
       "        text-align: right;\n",
       "    }\n",
       "</style>\n",
       "<table border=\"1\" class=\"dataframe\">\n",
       "  <thead>\n",
       "    <tr style=\"text-align: right;\">\n",
       "      <th></th>\n",
       "      <th>Suburb</th>\n",
       "      <th>Address</th>\n",
       "      <th>Rooms</th>\n",
       "      <th>Type</th>\n",
       "      <th>Price</th>\n",
       "      <th>Method</th>\n",
       "      <th>SellerG</th>\n",
       "      <th>Date</th>\n",
       "      <th>Distance</th>\n",
       "      <th>Postcode</th>\n",
       "      <th>...</th>\n",
       "      <th>Bathroom</th>\n",
       "      <th>Car</th>\n",
       "      <th>Landsize</th>\n",
       "      <th>BuildingArea</th>\n",
       "      <th>YearBuilt</th>\n",
       "      <th>CouncilArea</th>\n",
       "      <th>Lattitude</th>\n",
       "      <th>Longtitude</th>\n",
       "      <th>Regionname</th>\n",
       "      <th>Propertycount</th>\n",
       "    </tr>\n",
       "  </thead>\n",
       "  <tbody>\n",
       "    <tr>\n",
       "      <th>0</th>\n",
       "      <td>Abbotsford</td>\n",
       "      <td>68 Studley St</td>\n",
       "      <td>2</td>\n",
       "      <td>h</td>\n",
       "      <td>nan</td>\n",
       "      <td>SS</td>\n",
       "      <td>Jellis</td>\n",
       "      <td>3/09/2016</td>\n",
       "      <td>2.50</td>\n",
       "      <td>3067.00</td>\n",
       "      <td>...</td>\n",
       "      <td>1.00</td>\n",
       "      <td>1.00</td>\n",
       "      <td>126.00</td>\n",
       "      <td>nan</td>\n",
       "      <td>nan</td>\n",
       "      <td>Yarra City Council</td>\n",
       "      <td>-37.80</td>\n",
       "      <td>145.00</td>\n",
       "      <td>Northern Metropolitan</td>\n",
       "      <td>4019.00</td>\n",
       "    </tr>\n",
       "    <tr>\n",
       "      <th>1</th>\n",
       "      <td>Abbotsford</td>\n",
       "      <td>85 Turner St</td>\n",
       "      <td>2</td>\n",
       "      <td>h</td>\n",
       "      <td>1480000.00</td>\n",
       "      <td>S</td>\n",
       "      <td>Biggin</td>\n",
       "      <td>3/12/2016</td>\n",
       "      <td>2.50</td>\n",
       "      <td>3067.00</td>\n",
       "      <td>...</td>\n",
       "      <td>1.00</td>\n",
       "      <td>1.00</td>\n",
       "      <td>202.00</td>\n",
       "      <td>nan</td>\n",
       "      <td>nan</td>\n",
       "      <td>Yarra City Council</td>\n",
       "      <td>-37.80</td>\n",
       "      <td>145.00</td>\n",
       "      <td>Northern Metropolitan</td>\n",
       "      <td>4019.00</td>\n",
       "    </tr>\n",
       "    <tr>\n",
       "      <th>2</th>\n",
       "      <td>Abbotsford</td>\n",
       "      <td>25 Bloomburg St</td>\n",
       "      <td>2</td>\n",
       "      <td>h</td>\n",
       "      <td>1035000.00</td>\n",
       "      <td>S</td>\n",
       "      <td>Biggin</td>\n",
       "      <td>4/02/2016</td>\n",
       "      <td>2.50</td>\n",
       "      <td>3067.00</td>\n",
       "      <td>...</td>\n",
       "      <td>1.00</td>\n",
       "      <td>0.00</td>\n",
       "      <td>156.00</td>\n",
       "      <td>79.00</td>\n",
       "      <td>1900.00</td>\n",
       "      <td>Yarra City Council</td>\n",
       "      <td>-37.81</td>\n",
       "      <td>144.99</td>\n",
       "      <td>Northern Metropolitan</td>\n",
       "      <td>4019.00</td>\n",
       "    </tr>\n",
       "    <tr>\n",
       "      <th>3</th>\n",
       "      <td>Abbotsford</td>\n",
       "      <td>18/659 Victoria St</td>\n",
       "      <td>3</td>\n",
       "      <td>u</td>\n",
       "      <td>nan</td>\n",
       "      <td>VB</td>\n",
       "      <td>Rounds</td>\n",
       "      <td>4/02/2016</td>\n",
       "      <td>2.50</td>\n",
       "      <td>3067.00</td>\n",
       "      <td>...</td>\n",
       "      <td>2.00</td>\n",
       "      <td>1.00</td>\n",
       "      <td>0.00</td>\n",
       "      <td>nan</td>\n",
       "      <td>nan</td>\n",
       "      <td>Yarra City Council</td>\n",
       "      <td>-37.81</td>\n",
       "      <td>145.01</td>\n",
       "      <td>Northern Metropolitan</td>\n",
       "      <td>4019.00</td>\n",
       "    </tr>\n",
       "    <tr>\n",
       "      <th>4</th>\n",
       "      <td>Abbotsford</td>\n",
       "      <td>5 Charles St</td>\n",
       "      <td>3</td>\n",
       "      <td>h</td>\n",
       "      <td>1465000.00</td>\n",
       "      <td>SP</td>\n",
       "      <td>Biggin</td>\n",
       "      <td>4/03/2017</td>\n",
       "      <td>2.50</td>\n",
       "      <td>3067.00</td>\n",
       "      <td>...</td>\n",
       "      <td>2.00</td>\n",
       "      <td>0.00</td>\n",
       "      <td>134.00</td>\n",
       "      <td>150.00</td>\n",
       "      <td>1900.00</td>\n",
       "      <td>Yarra City Council</td>\n",
       "      <td>-37.81</td>\n",
       "      <td>144.99</td>\n",
       "      <td>Northern Metropolitan</td>\n",
       "      <td>4019.00</td>\n",
       "    </tr>\n",
       "  </tbody>\n",
       "</table>\n",
       "<p>5 rows × 21 columns</p>\n",
       "</div>"
      ],
      "text/plain": [
       "       Suburb             Address  Rooms Type      Price Method SellerG  \\\n",
       "0  Abbotsford       68 Studley St      2    h        nan     SS  Jellis   \n",
       "1  Abbotsford        85 Turner St      2    h 1480000.00      S  Biggin   \n",
       "2  Abbotsford     25 Bloomburg St      2    h 1035000.00      S  Biggin   \n",
       "3  Abbotsford  18/659 Victoria St      3    u        nan     VB  Rounds   \n",
       "4  Abbotsford        5 Charles St      3    h 1465000.00     SP  Biggin   \n",
       "\n",
       "        Date  Distance  Postcode  ...  Bathroom  Car  Landsize  BuildingArea  \\\n",
       "0  3/09/2016      2.50   3067.00  ...      1.00 1.00    126.00           nan   \n",
       "1  3/12/2016      2.50   3067.00  ...      1.00 1.00    202.00           nan   \n",
       "2  4/02/2016      2.50   3067.00  ...      1.00 0.00    156.00         79.00   \n",
       "3  4/02/2016      2.50   3067.00  ...      2.00 1.00      0.00           nan   \n",
       "4  4/03/2017      2.50   3067.00  ...      2.00 0.00    134.00        150.00   \n",
       "\n",
       "   YearBuilt         CouncilArea Lattitude  Longtitude             Regionname  \\\n",
       "0        nan  Yarra City Council    -37.80      145.00  Northern Metropolitan   \n",
       "1        nan  Yarra City Council    -37.80      145.00  Northern Metropolitan   \n",
       "2    1900.00  Yarra City Council    -37.81      144.99  Northern Metropolitan   \n",
       "3        nan  Yarra City Council    -37.81      145.01  Northern Metropolitan   \n",
       "4    1900.00  Yarra City Council    -37.81      144.99  Northern Metropolitan   \n",
       "\n",
       "  Propertycount  \n",
       "0       4019.00  \n",
       "1       4019.00  \n",
       "2       4019.00  \n",
       "3       4019.00  \n",
       "4       4019.00  \n",
       "\n",
       "[5 rows x 21 columns]"
      ]
     },
     "execution_count": 3,
     "metadata": {},
     "output_type": "execute_result"
    }
   ],
   "source": [
    "df_raw = pd.read_csv('Data/Melbourne_housing_FULL.csv')\n",
    "df_raw.head()"
   ]
  },
  {
   "cell_type": "markdown",
   "metadata": {},
   "source": [
    "### 0.2.1 - Rename columns to snakecase"
   ]
  },
  {
   "cell_type": "code",
   "execution_count": 4,
   "metadata": {},
   "outputs": [
    {
     "data": {
      "text/html": [
       "<div>\n",
       "<style scoped>\n",
       "    .dataframe tbody tr th:only-of-type {\n",
       "        vertical-align: middle;\n",
       "    }\n",
       "\n",
       "    .dataframe tbody tr th {\n",
       "        vertical-align: top;\n",
       "    }\n",
       "\n",
       "    .dataframe thead th {\n",
       "        text-align: right;\n",
       "    }\n",
       "</style>\n",
       "<table border=\"1\" class=\"dataframe\">\n",
       "  <thead>\n",
       "    <tr style=\"text-align: right;\">\n",
       "      <th></th>\n",
       "      <th>suburb</th>\n",
       "      <th>address</th>\n",
       "      <th>rooms</th>\n",
       "      <th>type</th>\n",
       "      <th>price</th>\n",
       "      <th>method</th>\n",
       "      <th>seller_g</th>\n",
       "      <th>date</th>\n",
       "      <th>distance</th>\n",
       "      <th>postcode</th>\n",
       "      <th>...</th>\n",
       "      <th>bathroom</th>\n",
       "      <th>car</th>\n",
       "      <th>landsize</th>\n",
       "      <th>building_area</th>\n",
       "      <th>year_built</th>\n",
       "      <th>council_area</th>\n",
       "      <th>lattitude</th>\n",
       "      <th>longtitude</th>\n",
       "      <th>regionname</th>\n",
       "      <th>propertycount</th>\n",
       "    </tr>\n",
       "  </thead>\n",
       "  <tbody>\n",
       "    <tr>\n",
       "      <th>0</th>\n",
       "      <td>Abbotsford</td>\n",
       "      <td>68 Studley St</td>\n",
       "      <td>2</td>\n",
       "      <td>h</td>\n",
       "      <td>nan</td>\n",
       "      <td>SS</td>\n",
       "      <td>Jellis</td>\n",
       "      <td>3/09/2016</td>\n",
       "      <td>2.50</td>\n",
       "      <td>3067.00</td>\n",
       "      <td>...</td>\n",
       "      <td>1.00</td>\n",
       "      <td>1.00</td>\n",
       "      <td>126.00</td>\n",
       "      <td>nan</td>\n",
       "      <td>nan</td>\n",
       "      <td>Yarra City Council</td>\n",
       "      <td>-37.80</td>\n",
       "      <td>145.00</td>\n",
       "      <td>Northern Metropolitan</td>\n",
       "      <td>4019.00</td>\n",
       "    </tr>\n",
       "    <tr>\n",
       "      <th>1</th>\n",
       "      <td>Abbotsford</td>\n",
       "      <td>85 Turner St</td>\n",
       "      <td>2</td>\n",
       "      <td>h</td>\n",
       "      <td>1480000.00</td>\n",
       "      <td>S</td>\n",
       "      <td>Biggin</td>\n",
       "      <td>3/12/2016</td>\n",
       "      <td>2.50</td>\n",
       "      <td>3067.00</td>\n",
       "      <td>...</td>\n",
       "      <td>1.00</td>\n",
       "      <td>1.00</td>\n",
       "      <td>202.00</td>\n",
       "      <td>nan</td>\n",
       "      <td>nan</td>\n",
       "      <td>Yarra City Council</td>\n",
       "      <td>-37.80</td>\n",
       "      <td>145.00</td>\n",
       "      <td>Northern Metropolitan</td>\n",
       "      <td>4019.00</td>\n",
       "    </tr>\n",
       "    <tr>\n",
       "      <th>2</th>\n",
       "      <td>Abbotsford</td>\n",
       "      <td>25 Bloomburg St</td>\n",
       "      <td>2</td>\n",
       "      <td>h</td>\n",
       "      <td>1035000.00</td>\n",
       "      <td>S</td>\n",
       "      <td>Biggin</td>\n",
       "      <td>4/02/2016</td>\n",
       "      <td>2.50</td>\n",
       "      <td>3067.00</td>\n",
       "      <td>...</td>\n",
       "      <td>1.00</td>\n",
       "      <td>0.00</td>\n",
       "      <td>156.00</td>\n",
       "      <td>79.00</td>\n",
       "      <td>1900.00</td>\n",
       "      <td>Yarra City Council</td>\n",
       "      <td>-37.81</td>\n",
       "      <td>144.99</td>\n",
       "      <td>Northern Metropolitan</td>\n",
       "      <td>4019.00</td>\n",
       "    </tr>\n",
       "    <tr>\n",
       "      <th>3</th>\n",
       "      <td>Abbotsford</td>\n",
       "      <td>18/659 Victoria St</td>\n",
       "      <td>3</td>\n",
       "      <td>u</td>\n",
       "      <td>nan</td>\n",
       "      <td>VB</td>\n",
       "      <td>Rounds</td>\n",
       "      <td>4/02/2016</td>\n",
       "      <td>2.50</td>\n",
       "      <td>3067.00</td>\n",
       "      <td>...</td>\n",
       "      <td>2.00</td>\n",
       "      <td>1.00</td>\n",
       "      <td>0.00</td>\n",
       "      <td>nan</td>\n",
       "      <td>nan</td>\n",
       "      <td>Yarra City Council</td>\n",
       "      <td>-37.81</td>\n",
       "      <td>145.01</td>\n",
       "      <td>Northern Metropolitan</td>\n",
       "      <td>4019.00</td>\n",
       "    </tr>\n",
       "    <tr>\n",
       "      <th>4</th>\n",
       "      <td>Abbotsford</td>\n",
       "      <td>5 Charles St</td>\n",
       "      <td>3</td>\n",
       "      <td>h</td>\n",
       "      <td>1465000.00</td>\n",
       "      <td>SP</td>\n",
       "      <td>Biggin</td>\n",
       "      <td>4/03/2017</td>\n",
       "      <td>2.50</td>\n",
       "      <td>3067.00</td>\n",
       "      <td>...</td>\n",
       "      <td>2.00</td>\n",
       "      <td>0.00</td>\n",
       "      <td>134.00</td>\n",
       "      <td>150.00</td>\n",
       "      <td>1900.00</td>\n",
       "      <td>Yarra City Council</td>\n",
       "      <td>-37.81</td>\n",
       "      <td>144.99</td>\n",
       "      <td>Northern Metropolitan</td>\n",
       "      <td>4019.00</td>\n",
       "    </tr>\n",
       "  </tbody>\n",
       "</table>\n",
       "<p>5 rows × 21 columns</p>\n",
       "</div>"
      ],
      "text/plain": [
       "       suburb             address  rooms type      price method seller_g  \\\n",
       "0  Abbotsford       68 Studley St      2    h        nan     SS   Jellis   \n",
       "1  Abbotsford        85 Turner St      2    h 1480000.00      S   Biggin   \n",
       "2  Abbotsford     25 Bloomburg St      2    h 1035000.00      S   Biggin   \n",
       "3  Abbotsford  18/659 Victoria St      3    u        nan     VB   Rounds   \n",
       "4  Abbotsford        5 Charles St      3    h 1465000.00     SP   Biggin   \n",
       "\n",
       "        date  distance  postcode  ...  bathroom  car  landsize  building_area  \\\n",
       "0  3/09/2016      2.50   3067.00  ...      1.00 1.00    126.00            nan   \n",
       "1  3/12/2016      2.50   3067.00  ...      1.00 1.00    202.00            nan   \n",
       "2  4/02/2016      2.50   3067.00  ...      1.00 0.00    156.00          79.00   \n",
       "3  4/02/2016      2.50   3067.00  ...      2.00 1.00      0.00            nan   \n",
       "4  4/03/2017      2.50   3067.00  ...      2.00 0.00    134.00         150.00   \n",
       "\n",
       "   year_built        council_area lattitude  longtitude  \\\n",
       "0         nan  Yarra City Council    -37.80      145.00   \n",
       "1         nan  Yarra City Council    -37.80      145.00   \n",
       "2     1900.00  Yarra City Council    -37.81      144.99   \n",
       "3         nan  Yarra City Council    -37.81      145.01   \n",
       "4     1900.00  Yarra City Council    -37.81      144.99   \n",
       "\n",
       "              regionname propertycount  \n",
       "0  Northern Metropolitan       4019.00  \n",
       "1  Northern Metropolitan       4019.00  \n",
       "2  Northern Metropolitan       4019.00  \n",
       "3  Northern Metropolitan       4019.00  \n",
       "4  Northern Metropolitan       4019.00  \n",
       "\n",
       "[5 rows x 21 columns]"
      ]
     },
     "execution_count": 4,
     "metadata": {},
     "output_type": "execute_result"
    }
   ],
   "source": [
    "cols_old = ['Suburb', 'Address', 'Rooms', 'Type', 'Price', 'Method', 'SellerG',\n",
    "       'Date', 'Distance', 'Postcode', 'Bedroom2', 'Bathroom', 'Car',\n",
    "       'Landsize', 'BuildingArea', 'YearBuilt', 'CouncilArea', 'Lattitude',\n",
    "       'Longtitude', 'Regionname', 'Propertycount']\n",
    "\n",
    "snakecase = lambda x: inflection.underscore (x)\n",
    "cols_new = list ( map(snakecase, cols_old))\n",
    "df_raw.columns = cols_new\n",
    "df_raw.head()"
   ]
  },
  {
   "cell_type": "markdown",
   "metadata": {},
   "source": [
    "# 1.0 - Data Description"
   ]
  },
  {
   "cell_type": "code",
   "execution_count": 5,
   "metadata": {},
   "outputs": [],
   "source": [
    "# Criando uma cópia de segurança caso alguma coisa de errado aconteça\n",
    "df1 = df_raw.copy()"
   ]
  },
  {
   "cell_type": "markdown",
   "metadata": {},
   "source": [
    "### 1.1 - Discribing Columns"
   ]
  },
  {
   "cell_type": "code",
   "execution_count": 6,
   "metadata": {},
   "outputs": [],
   "source": [
    "# Suburb: Pontos de referência na cidade de melbourne\n",
    "\n",
    "# Address: Address\n",
    "\n",
    "# Rooms: Number of rooms\n",
    "\n",
    "# Price: Price in Australian dollars\n",
    "\n",
    "# Method: Como a casa foi vendida, se ela foi vendida\n",
    "# S - property sold;\n",
    "# SP - property sold prior;\n",
    "# PI - property passed in;\n",
    "# PN - sold prior not disclosed;\n",
    "# SN - sold not disclosed;\n",
    "# NB - no bid;\n",
    "# VB - vendor bid;\n",
    "# W - withdrawn prior to auction;\n",
    "# SA - sold after auction;\n",
    "# SS - sold after auction price not disclosed.\n",
    "# N/A - price or highest bid not available.\n",
    "\n",
    "# Type: Tipo de casa\n",
    "# br - bedroom(s);\n",
    "# h - house,cottage,villa, semi,terrace;\n",
    "# u - unit, duplex;\n",
    "# t - townhouse;\n",
    "# dev site - development site;\n",
    "# o res - other residential.\n",
    "\n",
    "# SellerG: Nome do Agente Imobiliário\n",
    "\n",
    "# Date: Date sold\n",
    "\n",
    "# Distance: Distance from CBD (central business district) in Kilometres | Distância do centro comercial\n",
    "\n",
    "# Regionname: General Region (West, North West, North, North east …etc)\n",
    "\n",
    "# Propertycount: Number of properties that exist in the suburb.\n",
    "\n",
    "# Bedroom2 : Scraped # of Bedrooms (from different source) | Nâo sei muito bem para que serve\n",
    "\n",
    "# Bathroom: Number of Bathrooms\n",
    "\n",
    "# Car: Number of carspots | Quantos carros cabem na garagem\n",
    "\n",
    "# Landsize: Land Size in Metres | Tamanho do terreno\n",
    "\n",
    "# BuildingArea: Building Size in Metres | Tamanho da contrução\n",
    "\n",
    "# YearBuilt: Year the house was built\n",
    "\n",
    "# CouncilArea: Governing council for the area | Não sei muito bem para que serve\n",
    "\n",
    "# Lattitude: Self explanitory\n",
    "\n",
    "# Longtitude: Self explanitory"
   ]
  },
  {
   "cell_type": "markdown",
   "metadata": {},
   "source": [
    "## 1.2 - Data Dimension"
   ]
  },
  {
   "cell_type": "code",
   "execution_count": 7,
   "metadata": {},
   "outputs": [
    {
     "name": "stdout",
     "output_type": "stream",
     "text": [
      "Number of rols of dataframe is 34857\n",
      "Number of columns of dataframe is 21\n"
     ]
    }
   ],
   "source": [
    "\n",
    "print('Number of rols of dataframe is', df1.shape[0])\n",
    "print('Number of columns of dataframe is', df1.shape[1])\n"
   ]
  },
  {
   "cell_type": "markdown",
   "metadata": {},
   "source": [
    "## 1.3 - Data Description"
   ]
  },
  {
   "cell_type": "code",
   "execution_count": 8,
   "metadata": {},
   "outputs": [
    {
     "data": {
      "text/plain": [
       "Index(['suburb', 'address', 'rooms', 'type', 'price', 'method', 'seller_g',\n",
       "       'date', 'distance', 'postcode', 'bedroom2', 'bathroom', 'car',\n",
       "       'landsize', 'building_area', 'year_built', 'council_area', 'lattitude',\n",
       "       'longtitude', 'regionname', 'propertycount'],\n",
       "      dtype='object')"
      ]
     },
     "execution_count": 8,
     "metadata": {},
     "output_type": "execute_result"
    }
   ],
   "source": [
    "df1.columns"
   ]
  },
  {
   "cell_type": "code",
   "execution_count": 9,
   "metadata": {},
   "outputs": [
    {
     "data": {
      "text/plain": [
       "suburb            object\n",
       "address           object\n",
       "rooms              int64\n",
       "type              object\n",
       "price            float64\n",
       "method            object\n",
       "seller_g          object\n",
       "date              object\n",
       "distance         float64\n",
       "postcode         float64\n",
       "bedroom2         float64\n",
       "bathroom         float64\n",
       "car              float64\n",
       "landsize         float64\n",
       "building_area    float64\n",
       "year_built       float64\n",
       "council_area      object\n",
       "lattitude        float64\n",
       "longtitude       float64\n",
       "regionname        object\n",
       "propertycount    float64\n",
       "dtype: object"
      ]
     },
     "execution_count": 9,
     "metadata": {},
     "output_type": "execute_result"
    }
   ],
   "source": [
    "df1.dtypes"
   ]
  },
  {
   "cell_type": "code",
   "execution_count": 10,
   "metadata": {},
   "outputs": [
    {
     "name": "stdout",
     "output_type": "stream",
     "text": [
      "<class 'pandas.core.frame.DataFrame'>\n",
      "RangeIndex: 34857 entries, 0 to 34856\n",
      "Data columns (total 21 columns):\n",
      " #   Column         Non-Null Count  Dtype  \n",
      "---  ------         --------------  -----  \n",
      " 0   suburb         34857 non-null  object \n",
      " 1   address        34857 non-null  object \n",
      " 2   rooms          34857 non-null  int64  \n",
      " 3   type           34857 non-null  object \n",
      " 4   price          27247 non-null  float64\n",
      " 5   method         34857 non-null  object \n",
      " 6   seller_g       34857 non-null  object \n",
      " 7   date           34857 non-null  object \n",
      " 8   distance       34856 non-null  float64\n",
      " 9   postcode       34856 non-null  float64\n",
      " 10  bedroom2       26640 non-null  float64\n",
      " 11  bathroom       26631 non-null  float64\n",
      " 12  car            26129 non-null  float64\n",
      " 13  landsize       23047 non-null  float64\n",
      " 14  building_area  13742 non-null  float64\n",
      " 15  year_built     15551 non-null  float64\n",
      " 16  council_area   34854 non-null  object \n",
      " 17  lattitude      26881 non-null  float64\n",
      " 18  longtitude     26881 non-null  float64\n",
      " 19  regionname     34854 non-null  object \n",
      " 20  propertycount  34854 non-null  float64\n",
      "dtypes: float64(12), int64(1), object(8)\n",
      "memory usage: 5.6+ MB\n"
     ]
    }
   ],
   "source": [
    "df1.info()\n",
    "\n",
    "# Aqui consegui a informação que eu tenho dados faltantes no meu DataFrame "
   ]
  },
  {
   "cell_type": "code",
   "execution_count": 11,
   "metadata": {},
   "outputs": [
    {
     "data": {
      "text/html": [
       "<div>\n",
       "<style scoped>\n",
       "    .dataframe tbody tr th:only-of-type {\n",
       "        vertical-align: middle;\n",
       "    }\n",
       "\n",
       "    .dataframe tbody tr th {\n",
       "        vertical-align: top;\n",
       "    }\n",
       "\n",
       "    .dataframe thead th {\n",
       "        text-align: right;\n",
       "    }\n",
       "</style>\n",
       "<table border=\"1\" class=\"dataframe\">\n",
       "  <thead>\n",
       "    <tr style=\"text-align: right;\">\n",
       "      <th></th>\n",
       "      <th>count</th>\n",
       "      <th>mean</th>\n",
       "      <th>std</th>\n",
       "      <th>min</th>\n",
       "      <th>25%</th>\n",
       "      <th>50%</th>\n",
       "      <th>75%</th>\n",
       "      <th>max</th>\n",
       "    </tr>\n",
       "  </thead>\n",
       "  <tbody>\n",
       "    <tr>\n",
       "      <th>rooms</th>\n",
       "      <td>34857.00</td>\n",
       "      <td>3.03</td>\n",
       "      <td>0.97</td>\n",
       "      <td>1.00</td>\n",
       "      <td>2.00</td>\n",
       "      <td>3.00</td>\n",
       "      <td>4.00</td>\n",
       "      <td>16.00</td>\n",
       "    </tr>\n",
       "    <tr>\n",
       "      <th>price</th>\n",
       "      <td>27247.00</td>\n",
       "      <td>1050173.34</td>\n",
       "      <td>641467.13</td>\n",
       "      <td>85000.00</td>\n",
       "      <td>635000.00</td>\n",
       "      <td>870000.00</td>\n",
       "      <td>1295000.00</td>\n",
       "      <td>11200000.00</td>\n",
       "    </tr>\n",
       "    <tr>\n",
       "      <th>distance</th>\n",
       "      <td>34856.00</td>\n",
       "      <td>11.18</td>\n",
       "      <td>6.79</td>\n",
       "      <td>0.00</td>\n",
       "      <td>6.40</td>\n",
       "      <td>10.30</td>\n",
       "      <td>14.00</td>\n",
       "      <td>48.10</td>\n",
       "    </tr>\n",
       "    <tr>\n",
       "      <th>postcode</th>\n",
       "      <td>34856.00</td>\n",
       "      <td>3116.06</td>\n",
       "      <td>109.02</td>\n",
       "      <td>3000.00</td>\n",
       "      <td>3051.00</td>\n",
       "      <td>3103.00</td>\n",
       "      <td>3156.00</td>\n",
       "      <td>3978.00</td>\n",
       "    </tr>\n",
       "    <tr>\n",
       "      <th>bedroom2</th>\n",
       "      <td>26640.00</td>\n",
       "      <td>3.08</td>\n",
       "      <td>0.98</td>\n",
       "      <td>0.00</td>\n",
       "      <td>2.00</td>\n",
       "      <td>3.00</td>\n",
       "      <td>4.00</td>\n",
       "      <td>30.00</td>\n",
       "    </tr>\n",
       "    <tr>\n",
       "      <th>bathroom</th>\n",
       "      <td>26631.00</td>\n",
       "      <td>1.62</td>\n",
       "      <td>0.72</td>\n",
       "      <td>0.00</td>\n",
       "      <td>1.00</td>\n",
       "      <td>2.00</td>\n",
       "      <td>2.00</td>\n",
       "      <td>12.00</td>\n",
       "    </tr>\n",
       "    <tr>\n",
       "      <th>car</th>\n",
       "      <td>26129.00</td>\n",
       "      <td>1.73</td>\n",
       "      <td>1.01</td>\n",
       "      <td>0.00</td>\n",
       "      <td>1.00</td>\n",
       "      <td>2.00</td>\n",
       "      <td>2.00</td>\n",
       "      <td>26.00</td>\n",
       "    </tr>\n",
       "    <tr>\n",
       "      <th>landsize</th>\n",
       "      <td>23047.00</td>\n",
       "      <td>593.60</td>\n",
       "      <td>3398.84</td>\n",
       "      <td>0.00</td>\n",
       "      <td>224.00</td>\n",
       "      <td>521.00</td>\n",
       "      <td>670.00</td>\n",
       "      <td>433014.00</td>\n",
       "    </tr>\n",
       "    <tr>\n",
       "      <th>building_area</th>\n",
       "      <td>13742.00</td>\n",
       "      <td>160.26</td>\n",
       "      <td>401.27</td>\n",
       "      <td>0.00</td>\n",
       "      <td>102.00</td>\n",
       "      <td>136.00</td>\n",
       "      <td>188.00</td>\n",
       "      <td>44515.00</td>\n",
       "    </tr>\n",
       "    <tr>\n",
       "      <th>year_built</th>\n",
       "      <td>15551.00</td>\n",
       "      <td>1965.29</td>\n",
       "      <td>37.33</td>\n",
       "      <td>1196.00</td>\n",
       "      <td>1940.00</td>\n",
       "      <td>1970.00</td>\n",
       "      <td>2000.00</td>\n",
       "      <td>2106.00</td>\n",
       "    </tr>\n",
       "    <tr>\n",
       "      <th>lattitude</th>\n",
       "      <td>26881.00</td>\n",
       "      <td>-37.81</td>\n",
       "      <td>0.09</td>\n",
       "      <td>-38.19</td>\n",
       "      <td>-37.86</td>\n",
       "      <td>-37.81</td>\n",
       "      <td>-37.75</td>\n",
       "      <td>-37.39</td>\n",
       "    </tr>\n",
       "    <tr>\n",
       "      <th>longtitude</th>\n",
       "      <td>26881.00</td>\n",
       "      <td>145.00</td>\n",
       "      <td>0.12</td>\n",
       "      <td>144.42</td>\n",
       "      <td>144.93</td>\n",
       "      <td>145.01</td>\n",
       "      <td>145.07</td>\n",
       "      <td>145.53</td>\n",
       "    </tr>\n",
       "    <tr>\n",
       "      <th>propertycount</th>\n",
       "      <td>34854.00</td>\n",
       "      <td>7572.89</td>\n",
       "      <td>4428.09</td>\n",
       "      <td>83.00</td>\n",
       "      <td>4385.00</td>\n",
       "      <td>6763.00</td>\n",
       "      <td>10412.00</td>\n",
       "      <td>21650.00</td>\n",
       "    </tr>\n",
       "  </tbody>\n",
       "</table>\n",
       "</div>"
      ],
      "text/plain": [
       "                 count       mean       std      min       25%       50%  \\\n",
       "rooms         34857.00       3.03      0.97     1.00      2.00      3.00   \n",
       "price         27247.00 1050173.34 641467.13 85000.00 635000.00 870000.00   \n",
       "distance      34856.00      11.18      6.79     0.00      6.40     10.30   \n",
       "postcode      34856.00    3116.06    109.02  3000.00   3051.00   3103.00   \n",
       "bedroom2      26640.00       3.08      0.98     0.00      2.00      3.00   \n",
       "bathroom      26631.00       1.62      0.72     0.00      1.00      2.00   \n",
       "car           26129.00       1.73      1.01     0.00      1.00      2.00   \n",
       "landsize      23047.00     593.60   3398.84     0.00    224.00    521.00   \n",
       "building_area 13742.00     160.26    401.27     0.00    102.00    136.00   \n",
       "year_built    15551.00    1965.29     37.33  1196.00   1940.00   1970.00   \n",
       "lattitude     26881.00     -37.81      0.09   -38.19    -37.86    -37.81   \n",
       "longtitude    26881.00     145.00      0.12   144.42    144.93    145.01   \n",
       "propertycount 34854.00    7572.89   4428.09    83.00   4385.00   6763.00   \n",
       "\n",
       "                     75%         max  \n",
       "rooms               4.00       16.00  \n",
       "price         1295000.00 11200000.00  \n",
       "distance           14.00       48.10  \n",
       "postcode         3156.00     3978.00  \n",
       "bedroom2            4.00       30.00  \n",
       "bathroom            2.00       12.00  \n",
       "car                 2.00       26.00  \n",
       "landsize          670.00   433014.00  \n",
       "building_area     188.00    44515.00  \n",
       "year_built       2000.00     2106.00  \n",
       "lattitude         -37.75      -37.39  \n",
       "longtitude        145.07      145.53  \n",
       "propertycount   10412.00    21650.00  "
      ]
     },
     "execution_count": 11,
     "metadata": {},
     "output_type": "execute_result"
    }
   ],
   "source": [
    "df1.describe().T"
   ]
  },
  {
   "cell_type": "markdown",
   "metadata": {},
   "source": [
    "# 2.0 Data Cleaning"
   ]
  },
  {
   "cell_type": "code",
   "execution_count": 12,
   "metadata": {},
   "outputs": [],
   "source": [
    "df2 = df1.copy()"
   ]
  },
  {
   "cell_type": "markdown",
   "metadata": {},
   "source": [
    "### 2.1 Changing Data Types"
   ]
  },
  {
   "cell_type": "code",
   "execution_count": 76,
   "metadata": {
    "scrolled": false
   },
   "outputs": [
    {
     "data": {
      "text/plain": [
       "suburb                 category\n",
       "address                category\n",
       "rooms                     int64\n",
       "type                   category\n",
       "price                   float64\n",
       "method                 category\n",
       "seller_g               category\n",
       "date             datetime64[ns]\n",
       "distance                float64\n",
       "postcode               category\n",
       "bathroom                float64\n",
       "car                     float64\n",
       "council_area           category\n",
       "regionname             category\n",
       "propertycount           float64\n",
       "price_range              object\n",
       "year                     object\n",
       "dtype: object"
      ]
     },
     "execution_count": 76,
     "metadata": {},
     "output_type": "execute_result"
    }
   ],
   "source": [
    "# Mudando as colunas object para Categoricas, para me ajuda quando for fazer a análise das variáveis categoricas\n",
    "cols_object_type = df1.select_dtypes(['object']).columns\n",
    "df2[cols_object_type] = df1[cols_object_type].astype('category')\n",
    "\n",
    "# Mudando os tipos de dados da datas\n",
    "df2['date'] = pd.to_datetime(df1['date'])\n",
    "\n",
    "# Mudando o código postal para categórigo\n",
    "df2['postcode'] = df1['postcode'].astype('category')\n",
    "\n",
    "df2.dtypes"
   ]
  },
  {
   "cell_type": "markdown",
   "metadata": {},
   "source": [
    "### 2.2 - Drop Columns"
   ]
  },
  {
   "cell_type": "code",
   "execution_count": 14,
   "metadata": {},
   "outputs": [
    {
     "data": {
      "text/plain": [
       "25692"
      ]
     },
     "execution_count": 14,
     "metadata": {},
     "output_type": "execute_result"
    }
   ],
   "source": [
    "# Percebi que rooms é muito semelhante a bedroom2, logo decidi excluir bedroom2\n",
    "examining = df2.loc[df1['rooms'] == df2['bedroom2'], 'rooms']\n",
    "examining.count()"
   ]
  },
  {
   "cell_type": "code",
   "execution_count": 15,
   "metadata": {},
   "outputs": [
    {
     "data": {
      "text/plain": [
       "Index(['suburb', 'address', 'rooms', 'type', 'price', 'method', 'seller_g',\n",
       "       'date', 'distance', 'postcode', 'bathroom', 'car', 'landsize',\n",
       "       'building_area', 'year_built', 'council_area', 'regionname',\n",
       "       'propertycount'],\n",
       "      dtype='object')"
      ]
     },
     "execution_count": 15,
     "metadata": {},
     "output_type": "execute_result"
    }
   ],
   "source": [
    "df2 = df2.drop(['bedroom2', 'lattitude', 'longtitude'], axis=1)\n",
    "df2.columns"
   ]
  },
  {
   "cell_type": "markdown",
   "metadata": {},
   "source": [
    "### 2.3 - Missing Values"
   ]
  },
  {
   "cell_type": "code",
   "execution_count": 16,
   "metadata": {},
   "outputs": [
    {
     "data": {
      "image/png": "[encoded data removed]",
      "text/plain": [
       "<Figure size 1200x500 with 2 Axes>"
      ]
     },
     "metadata": {},
     "output_type": "display_data"
    }
   ],
   "source": [
    "# visualizing missing values\n",
    "fig, ax = plt.subplots(figsize=(12,5))\n",
    "figure = sns.heatmap(df2.isnull(), yticklabels=False,cmap=\"viridis\");\n",
    "plt.show(figure)"
   ]
  },
  {
   "cell_type": "code",
   "execution_count": 17,
   "metadata": {},
   "outputs": [
    {
     "data": {
      "text/plain": [
       "suburb           0.00\n",
       "address          0.00\n",
       "rooms            0.00\n",
       "type             0.00\n",
       "price           21.83\n",
       "method           0.00\n",
       "seller_g         0.00\n",
       "date             0.00\n",
       "distance         0.00\n",
       "postcode         0.00\n",
       "bathroom        23.60\n",
       "car             25.04\n",
       "landsize        33.88\n",
       "building_area   60.58\n",
       "year_built      55.39\n",
       "council_area     0.01\n",
       "regionname       0.01\n",
       "propertycount    0.01\n",
       "dtype: float64"
      ]
     },
     "execution_count": 17,
     "metadata": {},
     "output_type": "execute_result"
    }
   ],
   "source": [
    "# Porcentagem de dados faltantes em cada coluna\n",
    "df2.isnull().sum()/len(df2)*100"
   ]
  },
  {
   "cell_type": "markdown",
   "metadata": {},
   "source": [
    "Podemos ver que as colunas *building_area* e *year_built* tem muitos dados faltantes, mais de 50% logo na minha análise elas se tornam descatáveis por conta do tanto de dados faltantes."
   ]
  },
  {
   "cell_type": "code",
   "execution_count": 18,
   "metadata": {},
   "outputs": [],
   "source": [
    "df2 = df2.drop(['building_area', 'year_built', 'landsize'], axis=1)"
   ]
  },
  {
   "cell_type": "markdown",
   "metadata": {},
   "source": [
    "Como minha variável target é o preço, não posso simplesmente deletalo, porém vou deletar as linhas onde o preço é nulo"
   ]
  },
  {
   "cell_type": "code",
   "execution_count": 19,
   "metadata": {},
   "outputs": [],
   "source": [
    "df2.dropna(subset=['price'], inplace=True)"
   ]
  },
  {
   "cell_type": "code",
   "execution_count": 20,
   "metadata": {},
   "outputs": [],
   "source": [
    "df2['bathroom'] = df2['bathroom'].fillna(df2['bathroom'].mode()[0])\n",
    "\n",
    "df2['car'] = df2['car'].fillna(df2['car'].mode()[0])"
   ]
  },
  {
   "cell_type": "code",
   "execution_count": 21,
   "metadata": {},
   "outputs": [
    {
     "data": {
      "text/plain": [
       "suburb          0.00\n",
       "address         0.00\n",
       "rooms           0.00\n",
       "type            0.00\n",
       "price           0.00\n",
       "method          0.00\n",
       "seller_g        0.00\n",
       "date            0.00\n",
       "distance        0.00\n",
       "postcode        0.00\n",
       "bathroom        0.00\n",
       "car             0.00\n",
       "council_area    0.01\n",
       "regionname      0.01\n",
       "propertycount   0.01\n",
       "dtype: float64"
      ]
     },
     "execution_count": 21,
     "metadata": {},
     "output_type": "execute_result"
    }
   ],
   "source": [
    "df2.isnull().sum()/len(df2)*100"
   ]
  },
  {
   "cell_type": "code",
   "execution_count": 22,
   "metadata": {},
   "outputs": [],
   "source": [
    "# Estou excluindo todas as linhas que tem algum valor nulo\n",
    "df2 = df2.dropna(how='any')"
   ]
  },
  {
   "cell_type": "markdown",
   "metadata": {},
   "source": [
    "### 2.4 - Outliers Detection"
   ]
  },
  {
   "cell_type": "code",
   "execution_count": 23,
   "metadata": {},
   "outputs": [
    {
     "data": {
      "text/html": [
       "<div>\n",
       "<style scoped>\n",
       "    .dataframe tbody tr th:only-of-type {\n",
       "        vertical-align: middle;\n",
       "    }\n",
       "\n",
       "    .dataframe tbody tr th {\n",
       "        vertical-align: top;\n",
       "    }\n",
       "\n",
       "    .dataframe thead th {\n",
       "        text-align: right;\n",
       "    }\n",
       "</style>\n",
       "<table border=\"1\" class=\"dataframe\">\n",
       "  <thead>\n",
       "    <tr style=\"text-align: right;\">\n",
       "      <th></th>\n",
       "      <th>rooms</th>\n",
       "      <th>price</th>\n",
       "      <th>distance</th>\n",
       "      <th>bathroom</th>\n",
       "      <th>car</th>\n",
       "      <th>propertycount</th>\n",
       "    </tr>\n",
       "  </thead>\n",
       "  <tbody>\n",
       "    <tr>\n",
       "      <th>count</th>\n",
       "      <td>27244.00</td>\n",
       "      <td>27244.00</td>\n",
       "      <td>27244.00</td>\n",
       "      <td>27244.00</td>\n",
       "      <td>27244.00</td>\n",
       "      <td>27244.00</td>\n",
       "    </tr>\n",
       "    <tr>\n",
       "      <th>mean</th>\n",
       "      <td>2.99</td>\n",
       "      <td>1050210.03</td>\n",
       "      <td>11.28</td>\n",
       "      <td>1.45</td>\n",
       "      <td>1.79</td>\n",
       "      <td>7566.78</td>\n",
       "    </tr>\n",
       "    <tr>\n",
       "      <th>std</th>\n",
       "      <td>0.95</td>\n",
       "      <td>641492.29</td>\n",
       "      <td>6.79</td>\n",
       "      <td>0.66</td>\n",
       "      <td>0.87</td>\n",
       "      <td>4492.38</td>\n",
       "    </tr>\n",
       "    <tr>\n",
       "      <th>min</th>\n",
       "      <td>1.00</td>\n",
       "      <td>85000.00</td>\n",
       "      <td>0.00</td>\n",
       "      <td>0.00</td>\n",
       "      <td>0.00</td>\n",
       "      <td>83.00</td>\n",
       "    </tr>\n",
       "    <tr>\n",
       "      <th>25%</th>\n",
       "      <td>2.00</td>\n",
       "      <td>635000.00</td>\n",
       "      <td>6.40</td>\n",
       "      <td>1.00</td>\n",
       "      <td>1.00</td>\n",
       "      <td>4294.00</td>\n",
       "    </tr>\n",
       "    <tr>\n",
       "      <th>50%</th>\n",
       "      <td>3.00</td>\n",
       "      <td>870000.00</td>\n",
       "      <td>10.50</td>\n",
       "      <td>1.00</td>\n",
       "      <td>2.00</td>\n",
       "      <td>6567.00</td>\n",
       "    </tr>\n",
       "    <tr>\n",
       "      <th>75%</th>\n",
       "      <td>4.00</td>\n",
       "      <td>1295000.00</td>\n",
       "      <td>14.00</td>\n",
       "      <td>2.00</td>\n",
       "      <td>2.00</td>\n",
       "      <td>10412.00</td>\n",
       "    </tr>\n",
       "    <tr>\n",
       "      <th>max</th>\n",
       "      <td>16.00</td>\n",
       "      <td>11200000.00</td>\n",
       "      <td>48.10</td>\n",
       "      <td>9.00</td>\n",
       "      <td>18.00</td>\n",
       "      <td>21650.00</td>\n",
       "    </tr>\n",
       "  </tbody>\n",
       "</table>\n",
       "</div>"
      ],
      "text/plain": [
       "         rooms       price  distance  bathroom      car  propertycount\n",
       "count 27244.00    27244.00  27244.00  27244.00 27244.00       27244.00\n",
       "mean      2.99  1050210.03     11.28      1.45     1.79        7566.78\n",
       "std       0.95   641492.29      6.79      0.66     0.87        4492.38\n",
       "min       1.00    85000.00      0.00      0.00     0.00          83.00\n",
       "25%       2.00   635000.00      6.40      1.00     1.00        4294.00\n",
       "50%       3.00   870000.00     10.50      1.00     2.00        6567.00\n",
       "75%       4.00  1295000.00     14.00      2.00     2.00       10412.00\n",
       "max      16.00 11200000.00     48.10      9.00    18.00       21650.00"
      ]
     },
     "execution_count": 23,
     "metadata": {},
     "output_type": "execute_result"
    }
   ],
   "source": [
    "df2.describe()"
   ]
  },
  {
   "cell_type": "markdown",
   "metadata": {},
   "source": [
    "#### Price\n",
    "Nessa etapa estou agrupando os valores por um range de 1.000.000"
   ]
  },
  {
   "cell_type": "code",
   "execution_count": 24,
   "metadata": {},
   "outputs": [],
   "source": [
    "df2['price_range'] = np.where(df2['price'] <= 100000, '0-100,000',  \n",
    "                                       np.where ((df2['price'] > 100000) & (df2['price'] <= 1000000), '100,001 - 1M',\n",
    "                                                np.where((df2['price'] > 1000000) & (df2['price'] <= 3000000), '1M - 3M',\n",
    "                                                        np.where((df2['price']>3000000) & (df2['price']<=5000000), '3M - 5M',\n",
    "                                                                np.where((df2['price']>5000000) & (df2['price']<=6000000), '5M - 6M',\n",
    "                                                                        np.where((df2['price']>6000000) & (df2['price']<=7000000), '6M - 7M',\n",
    "                                                                                np.where((df2['price']>7000000) & (df2['price']<=8000000), '7M-8M', \n",
    "                                                                                         np.where((df2['price']>8000000) & (df2['price']<=9000000), '8M-9M',\n",
    "                                                                                                  np.where((df2['price']>9000000) & (df2['price']<=10000000), '9M-10M', \n",
    "                                                                                                         np.where((df2['price']>10000000) & (df2['price']<=11000000), '10M-11M', \n",
    "                                                                                                                 np.where((df2['price']>11000000) & (df2['price']<=12000000), '11M-12M', '')\n",
    "                                                                                                                 ))))))))))"
   ]
  },
  {
   "cell_type": "code",
   "execution_count": 25,
   "metadata": {},
   "outputs": [
    {
     "data": {
      "text/plain": [
       "price_range\n",
       "0-100,000           1\n",
       "11M-12M             1\n",
       "8M-9M               1\n",
       "7M-8M               2\n",
       "6M - 7M            14\n",
       "5M - 6M            40\n",
       "3M - 5M           388\n",
       "1M - 3M         10304\n",
       "100,001 - 1M    16493\n",
       "Name: price_range, dtype: int64"
      ]
     },
     "execution_count": 25,
     "metadata": {},
     "output_type": "execute_result"
    }
   ],
   "source": [
    "df2.groupby('price_range')['price_range'].count().sort_values()"
   ]
  },
  {
   "cell_type": "markdown",
   "metadata": {},
   "source": [
    "Após agrupar meus preços e análisar, decidi excluir as linhas que estão entre os valores 6M-12M e também o único valor que temos entre 0 - 100,000"
   ]
  },
  {
   "cell_type": "code",
   "execution_count": 26,
   "metadata": {},
   "outputs": [],
   "source": [
    "df2.drop(df2[(df2['price_range'] == '0-100,000') | (df2['price_range'] == '6M - 7M') | (df2['price_range'] == '7M-8M')\n",
    "              | (df2['price_range'] == '8M-9M') | (df2['price_range'] == '11M-12M')].index, inplace=True)"
   ]
  },
  {
   "cell_type": "code",
   "execution_count": 27,
   "metadata": {},
   "outputs": [
    {
     "data": {
      "text/html": [
       "<div>\n",
       "<style scoped>\n",
       "    .dataframe tbody tr th:only-of-type {\n",
       "        vertical-align: middle;\n",
       "    }\n",
       "\n",
       "    .dataframe tbody tr th {\n",
       "        vertical-align: top;\n",
       "    }\n",
       "\n",
       "    .dataframe thead th {\n",
       "        text-align: right;\n",
       "    }\n",
       "</style>\n",
       "<table border=\"1\" class=\"dataframe\">\n",
       "  <thead>\n",
       "    <tr style=\"text-align: right;\">\n",
       "      <th></th>\n",
       "      <th>rooms</th>\n",
       "      <th>price</th>\n",
       "      <th>distance</th>\n",
       "      <th>bathroom</th>\n",
       "      <th>car</th>\n",
       "      <th>propertycount</th>\n",
       "    </tr>\n",
       "  </thead>\n",
       "  <tbody>\n",
       "    <tr>\n",
       "      <th>count</th>\n",
       "      <td>27225.00</td>\n",
       "      <td>27225.00</td>\n",
       "      <td>27225.00</td>\n",
       "      <td>27225.00</td>\n",
       "      <td>27225.00</td>\n",
       "      <td>27225.00</td>\n",
       "    </tr>\n",
       "    <tr>\n",
       "      <th>mean</th>\n",
       "      <td>2.99</td>\n",
       "      <td>1046317.43</td>\n",
       "      <td>11.28</td>\n",
       "      <td>1.45</td>\n",
       "      <td>1.79</td>\n",
       "      <td>7567.05</td>\n",
       "    </tr>\n",
       "    <tr>\n",
       "      <th>std</th>\n",
       "      <td>0.95</td>\n",
       "      <td>622387.64</td>\n",
       "      <td>6.79</td>\n",
       "      <td>0.66</td>\n",
       "      <td>0.87</td>\n",
       "      <td>4492.89</td>\n",
       "    </tr>\n",
       "    <tr>\n",
       "      <th>min</th>\n",
       "      <td>1.00</td>\n",
       "      <td>112000.00</td>\n",
       "      <td>0.00</td>\n",
       "      <td>0.00</td>\n",
       "      <td>0.00</td>\n",
       "      <td>83.00</td>\n",
       "    </tr>\n",
       "    <tr>\n",
       "      <th>25%</th>\n",
       "      <td>2.00</td>\n",
       "      <td>635000.00</td>\n",
       "      <td>6.40</td>\n",
       "      <td>1.00</td>\n",
       "      <td>1.00</td>\n",
       "      <td>4294.00</td>\n",
       "    </tr>\n",
       "    <tr>\n",
       "      <th>50%</th>\n",
       "      <td>3.00</td>\n",
       "      <td>870000.00</td>\n",
       "      <td>10.50</td>\n",
       "      <td>1.00</td>\n",
       "      <td>2.00</td>\n",
       "      <td>6567.00</td>\n",
       "    </tr>\n",
       "    <tr>\n",
       "      <th>75%</th>\n",
       "      <td>4.00</td>\n",
       "      <td>1292000.00</td>\n",
       "      <td>14.00</td>\n",
       "      <td>2.00</td>\n",
       "      <td>2.00</td>\n",
       "      <td>10412.00</td>\n",
       "    </tr>\n",
       "    <tr>\n",
       "      <th>max</th>\n",
       "      <td>16.00</td>\n",
       "      <td>6000000.00</td>\n",
       "      <td>48.10</td>\n",
       "      <td>9.00</td>\n",
       "      <td>18.00</td>\n",
       "      <td>21650.00</td>\n",
       "    </tr>\n",
       "  </tbody>\n",
       "</table>\n",
       "</div>"
      ],
      "text/plain": [
       "         rooms      price  distance  bathroom      car  propertycount\n",
       "count 27225.00   27225.00  27225.00  27225.00 27225.00       27225.00\n",
       "mean      2.99 1046317.43     11.28      1.45     1.79        7567.05\n",
       "std       0.95  622387.64      6.79      0.66     0.87        4492.89\n",
       "min       1.00  112000.00      0.00      0.00     0.00          83.00\n",
       "25%       2.00  635000.00      6.40      1.00     1.00        4294.00\n",
       "50%       3.00  870000.00     10.50      1.00     2.00        6567.00\n",
       "75%       4.00 1292000.00     14.00      2.00     2.00       10412.00\n",
       "max      16.00 6000000.00     48.10      9.00    18.00       21650.00"
      ]
     },
     "execution_count": 27,
     "metadata": {},
     "output_type": "execute_result"
    }
   ],
   "source": [
    "df2.describe()"
   ]
  },
  {
   "cell_type": "markdown",
   "metadata": {},
   "source": [
    "#### Rooms"
   ]
  },
  {
   "cell_type": "code",
   "execution_count": 28,
   "metadata": {},
   "outputs": [
    {
     "data": {
      "text/plain": [
       "rooms\n",
       "9         1\n",
       "16        1\n",
       "12        2\n",
       "10        5\n",
       "8        14\n",
       "7        20\n",
       "6       136\n",
       "1      1195\n",
       "5      1203\n",
       "4      5911\n",
       "2      6785\n",
       "3     11952\n",
       "Name: rooms, dtype: int64"
      ]
     },
     "execution_count": 28,
     "metadata": {},
     "output_type": "execute_result"
    }
   ],
   "source": [
    "df2.groupby('rooms')['rooms'].count().sort_values()"
   ]
  },
  {
   "cell_type": "code",
   "execution_count": 29,
   "metadata": {},
   "outputs": [],
   "source": [
    "#Estou excluindo todas as linhas onde temos casas com mais de 8 quartos \n",
    "\n",
    "df2 = df2.loc[df2['rooms'] <= 8]"
   ]
  },
  {
   "cell_type": "code",
   "execution_count": 30,
   "metadata": {},
   "outputs": [
    {
     "data": {
      "text/html": [
       "<div>\n",
       "<style scoped>\n",
       "    .dataframe tbody tr th:only-of-type {\n",
       "        vertical-align: middle;\n",
       "    }\n",
       "\n",
       "    .dataframe tbody tr th {\n",
       "        vertical-align: top;\n",
       "    }\n",
       "\n",
       "    .dataframe thead th {\n",
       "        text-align: right;\n",
       "    }\n",
       "</style>\n",
       "<table border=\"1\" class=\"dataframe\">\n",
       "  <thead>\n",
       "    <tr style=\"text-align: right;\">\n",
       "      <th></th>\n",
       "      <th>rooms</th>\n",
       "      <th>price</th>\n",
       "      <th>distance</th>\n",
       "      <th>bathroom</th>\n",
       "      <th>car</th>\n",
       "      <th>propertycount</th>\n",
       "    </tr>\n",
       "  </thead>\n",
       "  <tbody>\n",
       "    <tr>\n",
       "      <th>count</th>\n",
       "      <td>27216.00</td>\n",
       "      <td>27216.00</td>\n",
       "      <td>27216.00</td>\n",
       "      <td>27216.00</td>\n",
       "      <td>27216.00</td>\n",
       "      <td>27216.00</td>\n",
       "    </tr>\n",
       "    <tr>\n",
       "      <th>mean</th>\n",
       "      <td>2.99</td>\n",
       "      <td>1045859.50</td>\n",
       "      <td>11.28</td>\n",
       "      <td>1.45</td>\n",
       "      <td>1.79</td>\n",
       "      <td>7567.53</td>\n",
       "    </tr>\n",
       "    <tr>\n",
       "      <th>std</th>\n",
       "      <td>0.94</td>\n",
       "      <td>621430.25</td>\n",
       "      <td>6.79</td>\n",
       "      <td>0.66</td>\n",
       "      <td>0.87</td>\n",
       "      <td>4493.27</td>\n",
       "    </tr>\n",
       "    <tr>\n",
       "      <th>min</th>\n",
       "      <td>1.00</td>\n",
       "      <td>112000.00</td>\n",
       "      <td>0.00</td>\n",
       "      <td>0.00</td>\n",
       "      <td>0.00</td>\n",
       "      <td>83.00</td>\n",
       "    </tr>\n",
       "    <tr>\n",
       "      <th>25%</th>\n",
       "      <td>2.00</td>\n",
       "      <td>635000.00</td>\n",
       "      <td>6.40</td>\n",
       "      <td>1.00</td>\n",
       "      <td>1.00</td>\n",
       "      <td>4294.00</td>\n",
       "    </tr>\n",
       "    <tr>\n",
       "      <th>50%</th>\n",
       "      <td>3.00</td>\n",
       "      <td>870000.00</td>\n",
       "      <td>10.50</td>\n",
       "      <td>1.00</td>\n",
       "      <td>2.00</td>\n",
       "      <td>6567.00</td>\n",
       "    </tr>\n",
       "    <tr>\n",
       "      <th>75%</th>\n",
       "      <td>4.00</td>\n",
       "      <td>1291000.00</td>\n",
       "      <td>14.00</td>\n",
       "      <td>2.00</td>\n",
       "      <td>2.00</td>\n",
       "      <td>10412.00</td>\n",
       "    </tr>\n",
       "    <tr>\n",
       "      <th>max</th>\n",
       "      <td>8.00</td>\n",
       "      <td>6000000.00</td>\n",
       "      <td>48.10</td>\n",
       "      <td>8.00</td>\n",
       "      <td>18.00</td>\n",
       "      <td>21650.00</td>\n",
       "    </tr>\n",
       "  </tbody>\n",
       "</table>\n",
       "</div>"
      ],
      "text/plain": [
       "         rooms      price  distance  bathroom      car  propertycount\n",
       "count 27216.00   27216.00  27216.00  27216.00 27216.00       27216.00\n",
       "mean      2.99 1045859.50     11.28      1.45     1.79        7567.53\n",
       "std       0.94  621430.25      6.79      0.66     0.87        4493.27\n",
       "min       1.00  112000.00      0.00      0.00     0.00          83.00\n",
       "25%       2.00  635000.00      6.40      1.00     1.00        4294.00\n",
       "50%       3.00  870000.00     10.50      1.00     2.00        6567.00\n",
       "75%       4.00 1291000.00     14.00      2.00     2.00       10412.00\n",
       "max       8.00 6000000.00     48.10      8.00    18.00       21650.00"
      ]
     },
     "execution_count": 30,
     "metadata": {},
     "output_type": "execute_result"
    }
   ],
   "source": [
    "df2.describe()"
   ]
  },
  {
   "cell_type": "markdown",
   "metadata": {},
   "source": [
    "# 3.0 - Descritive Statistics"
   ]
  },
  {
   "cell_type": "code",
   "execution_count": 78,
   "metadata": {},
   "outputs": [],
   "source": [
    "df3 = df2.copy()"
   ]
  },
  {
   "cell_type": "code",
   "execution_count": 32,
   "metadata": {},
   "outputs": [],
   "source": [
    "# Separando os dados em quantitaviso (numerico) e qualitativos (categoricos)\n",
    "num_attributes = df3.select_dtypes(include=['int64','float64'])\n",
    "cat_attributes = df3.select_dtypes(exclude=['int64','float64'])"
   ]
  },
  {
   "cell_type": "code",
   "execution_count": 33,
   "metadata": {},
   "outputs": [
    {
     "data": {
      "text/plain": [
       "suburb           category\n",
       "address          category\n",
       "rooms               int64\n",
       "type             category\n",
       "price             float64\n",
       "method           category\n",
       "seller_g         category\n",
       "date             category\n",
       "distance          float64\n",
       "postcode         category\n",
       "bathroom          float64\n",
       "car               float64\n",
       "council_area     category\n",
       "regionname       category\n",
       "propertycount     float64\n",
       "price_range        object\n",
       "dtype: object"
      ]
     },
     "execution_count": 33,
     "metadata": {},
     "output_type": "execute_result"
    }
   ],
   "source": [
    "df3.dtypes"
   ]
  },
  {
   "cell_type": "markdown",
   "metadata": {},
   "source": [
    "### 3.1 - Numerical Statistics Description"
   ]
  },
  {
   "cell_type": "code",
   "execution_count": 34,
   "metadata": {},
   "outputs": [
    {
     "data": {
      "text/html": [
       "<div>\n",
       "<style scoped>\n",
       "    .dataframe tbody tr th:only-of-type {\n",
       "        vertical-align: middle;\n",
       "    }\n",
       "\n",
       "    .dataframe tbody tr th {\n",
       "        vertical-align: top;\n",
       "    }\n",
       "\n",
       "    .dataframe thead th {\n",
       "        text-align: right;\n",
       "    }\n",
       "</style>\n",
       "<table border=\"1\" class=\"dataframe\">\n",
       "  <thead>\n",
       "    <tr style=\"text-align: right;\">\n",
       "      <th></th>\n",
       "      <th>Attributes</th>\n",
       "      <th>Mean</th>\n",
       "      <th>Median</th>\n",
       "      <th>Std</th>\n",
       "      <th>Min</th>\n",
       "      <th>Max</th>\n",
       "      <th>Range</th>\n",
       "      <th>Skew</th>\n",
       "      <th>Kurtosis</th>\n",
       "      <th>IQR</th>\n",
       "    </tr>\n",
       "  </thead>\n",
       "  <tbody>\n",
       "    <tr>\n",
       "      <th>0</th>\n",
       "      <td>rooms</td>\n",
       "      <td>2.99</td>\n",
       "      <td>3.00</td>\n",
       "      <td>0.94</td>\n",
       "      <td>1.00</td>\n",
       "      <td>8.00</td>\n",
       "      <td>7.00</td>\n",
       "      <td>0.29</td>\n",
       "      <td>0.55</td>\n",
       "      <td>2.00</td>\n",
       "    </tr>\n",
       "    <tr>\n",
       "      <th>1</th>\n",
       "      <td>price</td>\n",
       "      <td>1045859.50</td>\n",
       "      <td>870000.00</td>\n",
       "      <td>621418.84</td>\n",
       "      <td>112000.00</td>\n",
       "      <td>6000000.00</td>\n",
       "      <td>5888000.00</td>\n",
       "      <td>2.19</td>\n",
       "      <td>7.68</td>\n",
       "      <td>656000.00</td>\n",
       "    </tr>\n",
       "    <tr>\n",
       "      <th>2</th>\n",
       "      <td>distance</td>\n",
       "      <td>11.28</td>\n",
       "      <td>10.50</td>\n",
       "      <td>6.79</td>\n",
       "      <td>0.00</td>\n",
       "      <td>48.10</td>\n",
       "      <td>48.10</td>\n",
       "      <td>1.48</td>\n",
       "      <td>3.48</td>\n",
       "      <td>7.60</td>\n",
       "    </tr>\n",
       "    <tr>\n",
       "      <th>3</th>\n",
       "      <td>bathroom</td>\n",
       "      <td>1.45</td>\n",
       "      <td>1.00</td>\n",
       "      <td>0.66</td>\n",
       "      <td>0.00</td>\n",
       "      <td>8.00</td>\n",
       "      <td>8.00</td>\n",
       "      <td>1.56</td>\n",
       "      <td>3.73</td>\n",
       "      <td>1.00</td>\n",
       "    </tr>\n",
       "    <tr>\n",
       "      <th>4</th>\n",
       "      <td>car</td>\n",
       "      <td>1.79</td>\n",
       "      <td>2.00</td>\n",
       "      <td>0.87</td>\n",
       "      <td>0.00</td>\n",
       "      <td>18.00</td>\n",
       "      <td>18.00</td>\n",
       "      <td>1.59</td>\n",
       "      <td>11.78</td>\n",
       "      <td>1.00</td>\n",
       "    </tr>\n",
       "    <tr>\n",
       "      <th>5</th>\n",
       "      <td>propertycount</td>\n",
       "      <td>7567.53</td>\n",
       "      <td>6567.00</td>\n",
       "      <td>4493.19</td>\n",
       "      <td>83.00</td>\n",
       "      <td>21650.00</td>\n",
       "      <td>21567.00</td>\n",
       "      <td>1.02</td>\n",
       "      <td>0.92</td>\n",
       "      <td>6118.00</td>\n",
       "    </tr>\n",
       "  </tbody>\n",
       "</table>\n",
       "</div>"
      ],
      "text/plain": [
       "      Attributes       Mean    Median       Std       Min        Max  \\\n",
       "0          rooms       2.99      3.00      0.94      1.00       8.00   \n",
       "1          price 1045859.50 870000.00 621418.84 112000.00 6000000.00   \n",
       "2       distance      11.28     10.50      6.79      0.00      48.10   \n",
       "3       bathroom       1.45      1.00      0.66      0.00       8.00   \n",
       "4            car       1.79      2.00      0.87      0.00      18.00   \n",
       "5  propertycount    7567.53   6567.00   4493.19     83.00   21650.00   \n",
       "\n",
       "       Range  Skew  Kurtosis       IQR  \n",
       "0       7.00  0.29      0.55      2.00  \n",
       "1 5888000.00  2.19      7.68 656000.00  \n",
       "2      48.10  1.48      3.48      7.60  \n",
       "3       8.00  1.56      3.73      1.00  \n",
       "4      18.00  1.59     11.78      1.00  \n",
       "5   21567.00  1.02      0.92   6118.00  "
      ]
     },
     "execution_count": 34,
     "metadata": {},
     "output_type": "execute_result"
    }
   ],
   "source": [
    "# Central tendency statistics - mean, median\n",
    "\n",
    "ct1 = pd.DataFrame(num_attributes.apply(np.mean)).T\n",
    "ct2 = pd.DataFrame(num_attributes.apply(np.median)).T\n",
    "\n",
    "# Dispersion tendency statistics - std, range, min, max, skew, kurtosis, iqr\n",
    "dt1 = pd.DataFrame(num_attributes.apply(np.std)).T # Desvio Padrão\n",
    "dt2 = pd.DataFrame(num_attributes.apply(min)).T # Mínimo\n",
    "dt3 = pd.DataFrame(num_attributes.apply(max)).T # Máximo\n",
    "dt4 = pd.DataFrame(num_attributes.apply(lambda x: x.max() - x.min())).T # Range\n",
    "dt5 = pd.DataFrame(num_attributes.apply(lambda x: x.skew())).T # skew\n",
    "dt6 = pd.DataFrame(num_attributes.apply(lambda x: x.kurtosis())).T  # Kurtosis\n",
    "dt7 = pd.DataFrame(num_attributes.apply(lambda x: iqr(x))).T # IQR\n",
    "\n",
    "numerical_metrics = pd.concat([ct1, ct2, dt1, dt2, dt3, dt4, dt5, dt6, dt7]).T.reset_index()\n",
    "numerical_metrics.columns = ['Attributes', 'Mean', 'Median', 'Std', 'Min', 'Max', 'Range', 'Skew', 'Kurtosis', 'IQR']\n",
    "numerical_metrics"
   ]
  },
  {
   "cell_type": "code",
   "execution_count": 50,
   "metadata": {},
   "outputs": [
    {
     "data": {
      "text/html": [
       "<div>\n",
       "<style scoped>\n",
       "    .dataframe tbody tr th:only-of-type {\n",
       "        vertical-align: middle;\n",
       "    }\n",
       "\n",
       "    .dataframe tbody tr th {\n",
       "        vertical-align: top;\n",
       "    }\n",
       "\n",
       "    .dataframe thead th {\n",
       "        text-align: right;\n",
       "    }\n",
       "</style>\n",
       "<table border=\"1\" class=\"dataframe\">\n",
       "  <thead>\n",
       "    <tr style=\"text-align: right;\">\n",
       "      <th></th>\n",
       "      <th>rooms</th>\n",
       "      <th>price</th>\n",
       "      <th>distance</th>\n",
       "      <th>bathroom</th>\n",
       "      <th>car</th>\n",
       "      <th>propertycount</th>\n",
       "    </tr>\n",
       "  </thead>\n",
       "  <tbody>\n",
       "    <tr>\n",
       "      <th>count</th>\n",
       "      <td>27216.00</td>\n",
       "      <td>27216.00</td>\n",
       "      <td>27216.00</td>\n",
       "      <td>27216.00</td>\n",
       "      <td>27216.00</td>\n",
       "      <td>27216.00</td>\n",
       "    </tr>\n",
       "    <tr>\n",
       "      <th>mean</th>\n",
       "      <td>2.99</td>\n",
       "      <td>1045859.50</td>\n",
       "      <td>11.28</td>\n",
       "      <td>1.45</td>\n",
       "      <td>1.79</td>\n",
       "      <td>7567.53</td>\n",
       "    </tr>\n",
       "    <tr>\n",
       "      <th>std</th>\n",
       "      <td>0.94</td>\n",
       "      <td>621430.25</td>\n",
       "      <td>6.79</td>\n",
       "      <td>0.66</td>\n",
       "      <td>0.87</td>\n",
       "      <td>4493.27</td>\n",
       "    </tr>\n",
       "    <tr>\n",
       "      <th>min</th>\n",
       "      <td>1.00</td>\n",
       "      <td>112000.00</td>\n",
       "      <td>0.00</td>\n",
       "      <td>0.00</td>\n",
       "      <td>0.00</td>\n",
       "      <td>83.00</td>\n",
       "    </tr>\n",
       "    <tr>\n",
       "      <th>25%</th>\n",
       "      <td>2.00</td>\n",
       "      <td>635000.00</td>\n",
       "      <td>6.40</td>\n",
       "      <td>1.00</td>\n",
       "      <td>1.00</td>\n",
       "      <td>4294.00</td>\n",
       "    </tr>\n",
       "    <tr>\n",
       "      <th>50%</th>\n",
       "      <td>3.00</td>\n",
       "      <td>870000.00</td>\n",
       "      <td>10.50</td>\n",
       "      <td>1.00</td>\n",
       "      <td>2.00</td>\n",
       "      <td>6567.00</td>\n",
       "    </tr>\n",
       "    <tr>\n",
       "      <th>75%</th>\n",
       "      <td>4.00</td>\n",
       "      <td>1291000.00</td>\n",
       "      <td>14.00</td>\n",
       "      <td>2.00</td>\n",
       "      <td>2.00</td>\n",
       "      <td>10412.00</td>\n",
       "    </tr>\n",
       "    <tr>\n",
       "      <th>max</th>\n",
       "      <td>8.00</td>\n",
       "      <td>6000000.00</td>\n",
       "      <td>48.10</td>\n",
       "      <td>8.00</td>\n",
       "      <td>18.00</td>\n",
       "      <td>21650.00</td>\n",
       "    </tr>\n",
       "  </tbody>\n",
       "</table>\n",
       "</div>"
      ],
      "text/plain": [
       "         rooms      price  distance  bathroom      car  propertycount\n",
       "count 27216.00   27216.00  27216.00  27216.00 27216.00       27216.00\n",
       "mean      2.99 1045859.50     11.28      1.45     1.79        7567.53\n",
       "std       0.94  621430.25      6.79      0.66     0.87        4493.27\n",
       "min       1.00  112000.00      0.00      0.00     0.00          83.00\n",
       "25%       2.00  635000.00      6.40      1.00     1.00        4294.00\n",
       "50%       3.00  870000.00     10.50      1.00     2.00        6567.00\n",
       "75%       4.00 1291000.00     14.00      2.00     2.00       10412.00\n",
       "max       8.00 6000000.00     48.10      8.00    18.00       21650.00"
      ]
     },
     "execution_count": 50,
     "metadata": {},
     "output_type": "execute_result"
    }
   ],
   "source": [
    "num_attributes.describe()"
   ]
  },
  {
   "cell_type": "code",
   "execution_count": 58,
   "metadata": {
    "scrolled": false
   },
   "outputs": [],
   "source": [
    "num_attributes.hist(bins=10, figsize=(15,6), layout=(2,3));"
   ]
  },
  {
   "cell_type": "markdown",
   "metadata": {},
   "source": [
    "### 3.2 - Categorical Statistics Description"
   ]
  },
  {
   "cell_type": "code",
   "execution_count": 37,
   "metadata": {},
   "outputs": [
    {
     "data": {
      "text/html": [
       "<div>\n",
       "<style scoped>\n",
       "    .dataframe tbody tr th:only-of-type {\n",
       "        vertical-align: middle;\n",
       "    }\n",
       "\n",
       "    .dataframe tbody tr th {\n",
       "        vertical-align: top;\n",
       "    }\n",
       "\n",
       "    .dataframe thead th {\n",
       "        text-align: right;\n",
       "    }\n",
       "</style>\n",
       "<table border=\"1\" class=\"dataframe\">\n",
       "  <thead>\n",
       "    <tr style=\"text-align: right;\">\n",
       "      <th></th>\n",
       "      <th>suburb</th>\n",
       "      <th>address</th>\n",
       "      <th>type</th>\n",
       "      <th>method</th>\n",
       "      <th>seller_g</th>\n",
       "      <th>date</th>\n",
       "      <th>postcode</th>\n",
       "      <th>council_area</th>\n",
       "      <th>regionname</th>\n",
       "      <th>price_range</th>\n",
       "    </tr>\n",
       "  </thead>\n",
       "  <tbody>\n",
       "    <tr>\n",
       "      <th>1</th>\n",
       "      <td>Abbotsford</td>\n",
       "      <td>85 Turner St</td>\n",
       "      <td>h</td>\n",
       "      <td>S</td>\n",
       "      <td>Biggin</td>\n",
       "      <td>3/12/2016</td>\n",
       "      <td>3067.00</td>\n",
       "      <td>Yarra City Council</td>\n",
       "      <td>Northern Metropolitan</td>\n",
       "      <td>1M - 3M</td>\n",
       "    </tr>\n",
       "    <tr>\n",
       "      <th>2</th>\n",
       "      <td>Abbotsford</td>\n",
       "      <td>25 Bloomburg St</td>\n",
       "      <td>h</td>\n",
       "      <td>S</td>\n",
       "      <td>Biggin</td>\n",
       "      <td>4/02/2016</td>\n",
       "      <td>3067.00</td>\n",
       "      <td>Yarra City Council</td>\n",
       "      <td>Northern Metropolitan</td>\n",
       "      <td>1M - 3M</td>\n",
       "    </tr>\n",
       "    <tr>\n",
       "      <th>4</th>\n",
       "      <td>Abbotsford</td>\n",
       "      <td>5 Charles St</td>\n",
       "      <td>h</td>\n",
       "      <td>SP</td>\n",
       "      <td>Biggin</td>\n",
       "      <td>4/03/2017</td>\n",
       "      <td>3067.00</td>\n",
       "      <td>Yarra City Council</td>\n",
       "      <td>Northern Metropolitan</td>\n",
       "      <td>1M - 3M</td>\n",
       "    </tr>\n",
       "    <tr>\n",
       "      <th>5</th>\n",
       "      <td>Abbotsford</td>\n",
       "      <td>40 Federation La</td>\n",
       "      <td>h</td>\n",
       "      <td>PI</td>\n",
       "      <td>Biggin</td>\n",
       "      <td>4/03/2017</td>\n",
       "      <td>3067.00</td>\n",
       "      <td>Yarra City Council</td>\n",
       "      <td>Northern Metropolitan</td>\n",
       "      <td>100,001 - 1M</td>\n",
       "    </tr>\n",
       "    <tr>\n",
       "      <th>6</th>\n",
       "      <td>Abbotsford</td>\n",
       "      <td>55a Park St</td>\n",
       "      <td>h</td>\n",
       "      <td>VB</td>\n",
       "      <td>Nelson</td>\n",
       "      <td>4/06/2016</td>\n",
       "      <td>3067.00</td>\n",
       "      <td>Yarra City Council</td>\n",
       "      <td>Northern Metropolitan</td>\n",
       "      <td>1M - 3M</td>\n",
       "    </tr>\n",
       "    <tr>\n",
       "      <th>...</th>\n",
       "      <td>...</td>\n",
       "      <td>...</td>\n",
       "      <td>...</td>\n",
       "      <td>...</td>\n",
       "      <td>...</td>\n",
       "      <td>...</td>\n",
       "      <td>...</td>\n",
       "      <td>...</td>\n",
       "      <td>...</td>\n",
       "      <td>...</td>\n",
       "    </tr>\n",
       "    <tr>\n",
       "      <th>34852</th>\n",
       "      <td>Yarraville</td>\n",
       "      <td>13 Burns St</td>\n",
       "      <td>h</td>\n",
       "      <td>PI</td>\n",
       "      <td>Jas</td>\n",
       "      <td>24/02/2018</td>\n",
       "      <td>3013.00</td>\n",
       "      <td>Maribyrnong City Council</td>\n",
       "      <td>Western Metropolitan</td>\n",
       "      <td>1M - 3M</td>\n",
       "    </tr>\n",
       "    <tr>\n",
       "      <th>34853</th>\n",
       "      <td>Yarraville</td>\n",
       "      <td>29A Murray St</td>\n",
       "      <td>h</td>\n",
       "      <td>SP</td>\n",
       "      <td>Sweeney</td>\n",
       "      <td>24/02/2018</td>\n",
       "      <td>3013.00</td>\n",
       "      <td>Maribyrnong City Council</td>\n",
       "      <td>Western Metropolitan</td>\n",
       "      <td>100,001 - 1M</td>\n",
       "    </tr>\n",
       "    <tr>\n",
       "      <th>34854</th>\n",
       "      <td>Yarraville</td>\n",
       "      <td>147A Severn St</td>\n",
       "      <td>t</td>\n",
       "      <td>S</td>\n",
       "      <td>Jas</td>\n",
       "      <td>24/02/2018</td>\n",
       "      <td>3013.00</td>\n",
       "      <td>Maribyrnong City Council</td>\n",
       "      <td>Western Metropolitan</td>\n",
       "      <td>100,001 - 1M</td>\n",
       "    </tr>\n",
       "    <tr>\n",
       "      <th>34855</th>\n",
       "      <td>Yarraville</td>\n",
       "      <td>12/37 Stephen St</td>\n",
       "      <td>h</td>\n",
       "      <td>SP</td>\n",
       "      <td>hockingstuart</td>\n",
       "      <td>24/02/2018</td>\n",
       "      <td>3013.00</td>\n",
       "      <td>Maribyrnong City Council</td>\n",
       "      <td>Western Metropolitan</td>\n",
       "      <td>1M - 3M</td>\n",
       "    </tr>\n",
       "    <tr>\n",
       "      <th>34856</th>\n",
       "      <td>Yarraville</td>\n",
       "      <td>3 Tarrengower St</td>\n",
       "      <td>h</td>\n",
       "      <td>PI</td>\n",
       "      <td>RW</td>\n",
       "      <td>24/02/2018</td>\n",
       "      <td>3013.00</td>\n",
       "      <td>Maribyrnong City Council</td>\n",
       "      <td>Western Metropolitan</td>\n",
       "      <td>1M - 3M</td>\n",
       "    </tr>\n",
       "  </tbody>\n",
       "</table>\n",
       "<p>27216 rows × 10 columns</p>\n",
       "</div>"
      ],
      "text/plain": [
       "           suburb           address type method       seller_g        date  \\\n",
       "1      Abbotsford      85 Turner St    h      S         Biggin   3/12/2016   \n",
       "2      Abbotsford   25 Bloomburg St    h      S         Biggin   4/02/2016   \n",
       "4      Abbotsford      5 Charles St    h     SP         Biggin   4/03/2017   \n",
       "5      Abbotsford  40 Federation La    h     PI         Biggin   4/03/2017   \n",
       "6      Abbotsford       55a Park St    h     VB         Nelson   4/06/2016   \n",
       "...           ...               ...  ...    ...            ...         ...   \n",
       "34852  Yarraville       13 Burns St    h     PI            Jas  24/02/2018   \n",
       "34853  Yarraville     29A Murray St    h     SP        Sweeney  24/02/2018   \n",
       "34854  Yarraville    147A Severn St    t      S            Jas  24/02/2018   \n",
       "34855  Yarraville  12/37 Stephen St    h     SP  hockingstuart  24/02/2018   \n",
       "34856  Yarraville  3 Tarrengower St    h     PI             RW  24/02/2018   \n",
       "\n",
       "      postcode              council_area             regionname   price_range  \n",
       "1      3067.00        Yarra City Council  Northern Metropolitan       1M - 3M  \n",
       "2      3067.00        Yarra City Council  Northern Metropolitan       1M - 3M  \n",
       "4      3067.00        Yarra City Council  Northern Metropolitan       1M - 3M  \n",
       "5      3067.00        Yarra City Council  Northern Metropolitan  100,001 - 1M  \n",
       "6      3067.00        Yarra City Council  Northern Metropolitan       1M - 3M  \n",
       "...        ...                       ...                    ...           ...  \n",
       "34852  3013.00  Maribyrnong City Council   Western Metropolitan       1M - 3M  \n",
       "34853  3013.00  Maribyrnong City Council   Western Metropolitan  100,001 - 1M  \n",
       "34854  3013.00  Maribyrnong City Council   Western Metropolitan  100,001 - 1M  \n",
       "34855  3013.00  Maribyrnong City Council   Western Metropolitan       1M - 3M  \n",
       "34856  3013.00  Maribyrnong City Council   Western Metropolitan       1M - 3M  \n",
       "\n",
       "[27216 rows x 10 columns]"
      ]
     },
     "execution_count": 37,
     "metadata": {},
     "output_type": "execute_result"
    }
   ],
   "source": [
    "cat_attributes"
   ]
  },
  {
   "cell_type": "code",
   "execution_count": 38,
   "metadata": {},
   "outputs": [
    {
     "data": {
      "text/plain": [
       "suburb            344\n",
       "address         26721\n",
       "type                3\n",
       "method              5\n",
       "seller_g          349\n",
       "date               78\n",
       "postcode          209\n",
       "council_area       33\n",
       "regionname          8\n",
       "price_range         4\n",
       "dtype: int64"
      ]
     },
     "execution_count": 38,
     "metadata": {},
     "output_type": "execute_result"
    }
   ],
   "source": [
    "cat_attributes.apply(lambda x: x.unique().shape[0])"
   ]
  },
  {
   "cell_type": "code",
   "execution_count": 39,
   "metadata": {},
   "outputs": [
    {
     "data": {
      "text/plain": [
       "[h, t, u]\n",
       "Categories (3, object): [h, t, u]"
      ]
     },
     "execution_count": 39,
     "metadata": {},
     "output_type": "execute_result"
    }
   ],
   "source": [
    "cat_attributes['type'].unique()\n",
    "\n",
    "# h - house,cottage,villa, semi,terrace;\n",
    "# u - unit, duplex;\n",
    "# t - townhouse;"
   ]
  },
  {
   "cell_type": "code",
   "execution_count": 40,
   "metadata": {},
   "outputs": [
    {
     "data": {
      "text/plain": [
       "[S, SP, PI, VB, SA]\n",
       "Categories (5, object): [S, SP, PI, VB, SA]"
      ]
     },
     "execution_count": 40,
     "metadata": {},
     "output_type": "execute_result"
    }
   ],
   "source": [
    "cat_attributes['method'].unique()"
   ]
  },
  {
   "cell_type": "code",
   "execution_count": 41,
   "metadata": {},
   "outputs": [],
   "source": [
    "# S - property sold | Propriedade vendida\n",
    "# SP - property sold prior | Propriedade vendida anteriomente\n",
    "# SA - sold after auction | Vendido após leilão\n",
    "# PI - property passed in;\n",
    "# VB - vendor bid | Oferta do vendedor"
   ]
  },
  {
   "cell_type": "code",
   "execution_count": 46,
   "metadata": {},
   "outputs": [
    {
     "data": {
      "image/png": "[encoded data removed]",
      "text/plain": [
       "<Figure size 640x480 with 1 Axes>"
      ]
     },
     "metadata": {},
     "output_type": "display_data"
    }
   ],
   "source": [
    "type_price = sns.boxplot(x='type',y='price',data=df2)\n",
    "plt.show(type_price)\n",
    "\n",
    "# h - house,cottage,villa, semi,terrace;\n",
    "# u - unit, duplex;\n",
    "# t - townhouse;"
   ]
  },
  {
   "cell_type": "code",
   "execution_count": 47,
   "metadata": {},
   "outputs": [
    {
     "data": {
      "image/png": "[encoded data removed]",
      "text/plain": [
       "<Figure size 640x480 with 1 Axes>"
      ]
     },
     "metadata": {},
     "output_type": "display_data"
    }
   ],
   "source": [
    "method_price = sns.boxplot(x='method',y='price',data=df2)\n",
    "plt.show(method_price)"
   ]
  },
  {
   "cell_type": "markdown",
   "metadata": {},
   "source": [
    "# 4.0 - Feature Engineering"
   ]
  },
  {
   "cell_type": "code",
   "execution_count": 79,
   "metadata": {},
   "outputs": [],
   "source": [
    "df4 = df3.copy()"
   ]
  },
  {
   "cell_type": "markdown",
   "metadata": {},
   "source": [
    "### 4.1 - Mindmap of hypotheses"
   ]
  },
  {
   "cell_type": "markdown",
   "metadata": {},
   "source": [
    "#### 4.1.1 - My hypotheses"
   ]
  },
  {
   "cell_type": "markdown",
   "metadata": {},
   "source": [
    "- **1.** Casas que tem um maior número de banheiros são mais caras\n",
    "- **2.** Casas mais perto do centro comercial, são mais caras\n",
    "- **3.** O preço médio varia de acordo com a região (A região pode aumentar ou diminuir o preço)\n",
    "- **4.** O preço médio varia de acordo com o suburbio (O suburbio pode aumentar ou diminuir o preço)\n",
    "- **5.** Casas que vão a leilão são mais baratas\n",
    "- **6.** O tipo de casa (h,u,t) influencia no preço da casa\n",
    "- **7.** O número de casas de um subúrbio influencia no preço de uma casa\n",
    "- **8.** Quanto mais cômodos uma casa tem, mais cara ela é\n",
    "- **9.** A venda de casas aumenta de acordo com o ano"
   ]
  },
  {
   "cell_type": "markdown",
   "metadata": {},
   "source": [
    "#### 4.1.2 - Bussines questions"
   ]
  },
  {
   "cell_type": "markdown",
   "metadata": {},
   "source": [
    "- **1.** Qual época do ano mais são vendidas casas?\n",
    "- **2.** Qual a região que mais vende casa e qual sua média\n",
    "- **3.** Qual a média de preço de cada região?"
   ]
  },
  {
   "cell_type": "markdown",
   "metadata": {},
   "source": [
    "### 4.2 - Classification of hypoteses"
   ]
  },
  {
   "cell_type": "markdown",
   "metadata": {},
   "source": [
    "### 4.3 - Feature Engineering"
   ]
  },
  {
   "cell_type": "code",
   "execution_count": 90,
   "metadata": {},
   "outputs": [],
   "source": [
    "# Criar uma coluna ano\n",
    "df4['year'] = df4['date'].dt.year"
   ]
  },
  {
   "cell_type": "markdown",
   "metadata": {},
   "source": [
    "# 5.0 - Explore Data Analisys"
   ]
  },
  {
   "cell_type": "markdown",
   "metadata": {},
   "source": [
    "### 5.1 - Univariate analisys"
   ]
  },
  {
   "cell_type": "markdown",
   "metadata": {},
   "source": [
    "### 5.2 - Bivariate analisys"
   ]
  },
  {
   "cell_type": "markdown",
   "metadata": {},
   "source": [
    "### 5.3 - multivariate analisys"
   ]
  },
  {
   "cell_type": "code",
   "execution_count": null,
   "metadata": {},
   "outputs": [],
   "source": []
  }
 ],
 "metadata": {
  "kernelspec": {
   "display_name": "Python 3",
   "language": "python",
   "name": "python3"
  },
  "language_info": {
   "codemirror_mode": {
    "name": "ipython",
    "version": 3
   },
   "file_extension": ".py",
   "mimetype": "text/x-python",
   "name": "python",
   "nbconvert_exporter": "python",
   "pygments_lexer": "ipython3",
   "version": "3.8.3"
  }
 },
 "nbformat": 4,
 "nbformat_minor": 5
}
